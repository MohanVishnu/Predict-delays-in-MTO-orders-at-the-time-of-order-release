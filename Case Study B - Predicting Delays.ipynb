{
 "cells": [
  {
   "cell_type": "markdown",
   "id": "1927333d",
   "metadata": {},
   "source": [
    "## Challenge: Predict delays in MTO orders at the time of order release\n",
    "\n",
    "### Business and Context:\n",
    "* Titan is today one of the country’s most admired and valued companies. Established in 1987 as a Joint Venture between the Tata Group and Tamil Nadu Industrial Development Corporation (TIDCO), Titan has transformed itself from being one of the world’s largest integrated watch manufacturer to a premier lifestyle Company with a presence in the jewellery, watches, fragrances, eyewear and Indian dress wear segments, with an enviable distribution footprint. Tanishq, Titan&#39;s flagship line of jewellery, started its journey in 1994, challenging the established family jeweller system prevalent in India. Over the years, it has evolved into one of the finest jewellery brands, synonymous with exquisite craftsmanship and superlative quality. Today, Tanishq sells jewellery through a retail network of over 300 stores."
   ]
  },
  {
   "cell_type": "code",
   "execution_count": null,
   "id": "ff606c7f",
   "metadata": {},
   "outputs": [],
   "source": []
  },
  {
   "cell_type": "markdown",
   "id": "4a19a149",
   "metadata": {},
   "source": [
    "### 1. Importing the required libraries"
   ]
  },
  {
   "cell_type": "code",
   "execution_count": 27,
   "id": "2a3b3c1f",
   "metadata": {},
   "outputs": [],
   "source": [
    "import pandas as pd\n",
    "import numpy as np\n",
    "import matplotlib.pyplot as plt\n",
    "import seaborn as sns\n",
    "from sklearn.linear_model import LogisticRegression\n",
    "import warnings\n",
    "warnings.filterwarnings('ignore')"
   ]
  },
  {
   "cell_type": "markdown",
   "id": "0eb2907b",
   "metadata": {},
   "source": [
    "### 2. Importing the given dataset "
   ]
  },
  {
   "cell_type": "code",
   "execution_count": null,
   "id": "79d98cd6",
   "metadata": {},
   "outputs": [],
   "source": []
  },
  {
   "cell_type": "code",
   "execution_count": 31,
   "id": "665a3b8f",
   "metadata": {},
   "outputs": [],
   "source": [
    "demo= pd.read_excel('Data for Case Study B - Predicting Delays.xlsx')"
   ]
  },
  {
   "cell_type": "code",
   "execution_count": 32,
   "id": "298fbaf8",
   "metadata": {},
   "outputs": [
    {
     "data": {
      "text/html": [
       "<div>\n",
       "<style scoped>\n",
       "    .dataframe tbody tr th:only-of-type {\n",
       "        vertical-align: middle;\n",
       "    }\n",
       "\n",
       "    .dataframe tbody tr th {\n",
       "        vertical-align: top;\n",
       "    }\n",
       "\n",
       "    .dataframe thead th {\n",
       "        text-align: right;\n",
       "    }\n",
       "</style>\n",
       "<table border=\"1\" class=\"dataframe\">\n",
       "  <thead>\n",
       "    <tr style=\"text-align: right;\">\n",
       "      <th></th>\n",
       "      <th>Promised Month</th>\n",
       "      <th>Region Head Code</th>\n",
       "      <th>Vendor Region</th>\n",
       "      <th>IsOrderForCustomerOccasion</th>\n",
       "      <th>Plain Gold or Studded Jewellery</th>\n",
       "      <th>Retail Region</th>\n",
       "      <th>OrderRefNo</th>\n",
       "      <th>Prod_Source</th>\n",
       "      <th>Karatage</th>\n",
       "      <th>Design Reference</th>\n",
       "      <th>Product Category</th>\n",
       "      <th>Product Size Code</th>\n",
       "      <th>Ord_Qty</th>\n",
       "      <th>Modification Type</th>\n",
       "      <th>Product description</th>\n",
       "      <th>Lead time (days)</th>\n",
       "      <th>Delayed order</th>\n",
       "    </tr>\n",
       "  </thead>\n",
       "  <tbody>\n",
       "    <tr>\n",
       "      <th>0</th>\n",
       "      <td>Apr</td>\n",
       "      <td>16</td>\n",
       "      <td>1 - IH-Hosur</td>\n",
       "      <td>Yes</td>\n",
       "      <td>PLAIN</td>\n",
       "      <td>WEST</td>\n",
       "      <td>ABKP2122P172O</td>\n",
       "      <td>Inhouse</td>\n",
       "      <td>18 KT / GOLD</td>\n",
       "      <td>P223PPY</td>\n",
       "      <td>PENDANT</td>\n",
       "      <td>A</td>\n",
       "      <td>1</td>\n",
       "      <td>New Design</td>\n",
       "      <td>GOLD PLAIN</td>\n",
       "      <td>34.0</td>\n",
       "      <td>Ontime</td>\n",
       "    </tr>\n",
       "    <tr>\n",
       "      <th>1</th>\n",
       "      <td>Apr</td>\n",
       "      <td>12</td>\n",
       "      <td>14- Secundrabad</td>\n",
       "      <td>No</td>\n",
       "      <td>PLAIN</td>\n",
       "      <td>WEST</td>\n",
       "      <td>ABKP2122P173</td>\n",
       "      <td>Outsourced</td>\n",
       "      <td>22 KT / GOLD</td>\n",
       "      <td>2019SHN</td>\n",
       "      <td>STUD EAR RING</td>\n",
       "      <td>A</td>\n",
       "      <td>1</td>\n",
       "      <td>Minor</td>\n",
       "      <td>GOLD PLAIN</td>\n",
       "      <td>19.0</td>\n",
       "      <td>Ontime</td>\n",
       "    </tr>\n",
       "    <tr>\n",
       "      <th>2</th>\n",
       "      <td>Apr</td>\n",
       "      <td>13</td>\n",
       "      <td>3 - Mumbai</td>\n",
       "      <td>No</td>\n",
       "      <td>PLAIN</td>\n",
       "      <td>WEST</td>\n",
       "      <td>ABKP2122P174</td>\n",
       "      <td>Outsourced</td>\n",
       "      <td>22 KT / GOLD</td>\n",
       "      <td>2017YPX</td>\n",
       "      <td>MANGAL SUTRA</td>\n",
       "      <td>M</td>\n",
       "      <td>1</td>\n",
       "      <td>Standard</td>\n",
       "      <td>GOLD PLAIN</td>\n",
       "      <td>22.0</td>\n",
       "      <td>Ontime</td>\n",
       "    </tr>\n",
       "    <tr>\n",
       "      <th>3</th>\n",
       "      <td>Apr</td>\n",
       "      <td>17</td>\n",
       "      <td>8 - Kolkata</td>\n",
       "      <td>No</td>\n",
       "      <td>PLAIN</td>\n",
       "      <td>WEST</td>\n",
       "      <td>ABKP2122P175</td>\n",
       "      <td>Outsourced</td>\n",
       "      <td>22 KT / GOLD</td>\n",
       "      <td>2219VMR</td>\n",
       "      <td>BANGLE</td>\n",
       "      <td>R</td>\n",
       "      <td>1</td>\n",
       "      <td>Standard</td>\n",
       "      <td>PLAIN WITH STONES</td>\n",
       "      <td>18.0</td>\n",
       "      <td>Ontime</td>\n",
       "    </tr>\n",
       "    <tr>\n",
       "      <th>4</th>\n",
       "      <td>Apr</td>\n",
       "      <td>12</td>\n",
       "      <td>13- Coimbatore</td>\n",
       "      <td>No</td>\n",
       "      <td>PLAIN</td>\n",
       "      <td>WEST</td>\n",
       "      <td>ABKP2122P176</td>\n",
       "      <td>Outsourced</td>\n",
       "      <td>22 KT / GOLD</td>\n",
       "      <td>D1D1DYD</td>\n",
       "      <td>DROP EAR RING</td>\n",
       "      <td>A</td>\n",
       "      <td>1</td>\n",
       "      <td>Standard</td>\n",
       "      <td>CZ PRODUCT</td>\n",
       "      <td>16.0</td>\n",
       "      <td>Ontime</td>\n",
       "    </tr>\n",
       "    <tr>\n",
       "      <th>...</th>\n",
       "      <td>...</td>\n",
       "      <td>...</td>\n",
       "      <td>...</td>\n",
       "      <td>...</td>\n",
       "      <td>...</td>\n",
       "      <td>...</td>\n",
       "      <td>...</td>\n",
       "      <td>...</td>\n",
       "      <td>...</td>\n",
       "      <td>...</td>\n",
       "      <td>...</td>\n",
       "      <td>...</td>\n",
       "      <td>...</td>\n",
       "      <td>...</td>\n",
       "      <td>...</td>\n",
       "      <td>...</td>\n",
       "      <td>...</td>\n",
       "    </tr>\n",
       "    <tr>\n",
       "      <th>151862</th>\n",
       "      <td>Mar</td>\n",
       "      <td>10</td>\n",
       "      <td>NaN</td>\n",
       "      <td>No</td>\n",
       "      <td>PLAIN</td>\n",
       "      <td>NORTH</td>\n",
       "      <td>YNRP2223P367</td>\n",
       "      <td>Outsourced</td>\n",
       "      <td>22 KT / GOLD</td>\n",
       "      <td>3420GBN</td>\n",
       "      <td>CHIAN + PENDANT</td>\n",
       "      <td>G</td>\n",
       "      <td>1</td>\n",
       "      <td>Minor</td>\n",
       "      <td>GOLD PLAIN</td>\n",
       "      <td>21.0</td>\n",
       "      <td>Overdue</td>\n",
       "    </tr>\n",
       "    <tr>\n",
       "      <th>151863</th>\n",
       "      <td>Mar</td>\n",
       "      <td>10</td>\n",
       "      <td>7 - Jaipur</td>\n",
       "      <td>No</td>\n",
       "      <td>STUDDED</td>\n",
       "      <td>ZOYA</td>\n",
       "      <td>ZBLP2223S38P</td>\n",
       "      <td>Outsourced</td>\n",
       "      <td>ZOYA 22kt</td>\n",
       "      <td>CP19DAM</td>\n",
       "      <td>DROP EAR RING</td>\n",
       "      <td>A</td>\n",
       "      <td>1</td>\n",
       "      <td>Standard</td>\n",
       "      <td>KUNDAN PLKI STONES</td>\n",
       "      <td>28.0</td>\n",
       "      <td>Overdue</td>\n",
       "    </tr>\n",
       "    <tr>\n",
       "      <th>151864</th>\n",
       "      <td>Mar</td>\n",
       "      <td>18</td>\n",
       "      <td>1A - IH-Pantnagar</td>\n",
       "      <td>No</td>\n",
       "      <td>STUDDED</td>\n",
       "      <td>ZOYA</td>\n",
       "      <td>ZKCP2223S8A</td>\n",
       "      <td>Inhouse</td>\n",
       "      <td>ZOYA 18kt</td>\n",
       "      <td>ST21FAB</td>\n",
       "      <td>FINGER RING</td>\n",
       "      <td>P</td>\n",
       "      <td>1</td>\n",
       "      <td>Major</td>\n",
       "      <td>STUDDED SOLITAIRE</td>\n",
       "      <td>NaN</td>\n",
       "      <td>Overdue</td>\n",
       "    </tr>\n",
       "    <tr>\n",
       "      <th>151865</th>\n",
       "      <td>Mar</td>\n",
       "      <td>15</td>\n",
       "      <td>3 - Mumbai</td>\n",
       "      <td>No</td>\n",
       "      <td>STUDDED</td>\n",
       "      <td>ZOYA</td>\n",
       "      <td>ZMAP2223S27A</td>\n",
       "      <td>Outsourced</td>\n",
       "      <td>ZOYA 18kt</td>\n",
       "      <td>FL21VBF</td>\n",
       "      <td>BANGLE</td>\n",
       "      <td>C</td>\n",
       "      <td>1</td>\n",
       "      <td>Minor</td>\n",
       "      <td>GOLD STUDDED</td>\n",
       "      <td>47.0</td>\n",
       "      <td>Overdue</td>\n",
       "    </tr>\n",
       "    <tr>\n",
       "      <th>151866</th>\n",
       "      <td>Mar</td>\n",
       "      <td>12</td>\n",
       "      <td>13- Coimbatore</td>\n",
       "      <td>No</td>\n",
       "      <td>PLAIN</td>\n",
       "      <td>NORTH</td>\n",
       "      <td>ZRKP2223P162</td>\n",
       "      <td>Outsourced</td>\n",
       "      <td>22 KT / GOLD</td>\n",
       "      <td>PV30BEB</td>\n",
       "      <td>BRACELET</td>\n",
       "      <td>F</td>\n",
       "      <td>1</td>\n",
       "      <td>New Design</td>\n",
       "      <td>GOLD PLAIN</td>\n",
       "      <td>27.0</td>\n",
       "      <td>Overdue</td>\n",
       "    </tr>\n",
       "  </tbody>\n",
       "</table>\n",
       "<p>151867 rows × 17 columns</p>\n",
       "</div>"
      ],
      "text/plain": [
       "       Promised Month  Region Head Code      Vendor Region  \\\n",
       "0                 Apr                16       1 - IH-Hosur   \n",
       "1                 Apr                12    14- Secundrabad   \n",
       "2                 Apr                13         3 - Mumbai   \n",
       "3                 Apr                17        8 - Kolkata   \n",
       "4                 Apr                12     13- Coimbatore   \n",
       "...               ...               ...                ...   \n",
       "151862            Mar                10                NaN   \n",
       "151863            Mar                10         7 - Jaipur   \n",
       "151864            Mar                18  1A - IH-Pantnagar   \n",
       "151865            Mar                15         3 - Mumbai   \n",
       "151866            Mar                12     13- Coimbatore   \n",
       "\n",
       "       IsOrderForCustomerOccasion Plain Gold or Studded Jewellery  \\\n",
       "0                             Yes                           PLAIN   \n",
       "1                              No                           PLAIN   \n",
       "2                              No                           PLAIN   \n",
       "3                              No                           PLAIN   \n",
       "4                              No                           PLAIN   \n",
       "...                           ...                             ...   \n",
       "151862                         No                           PLAIN   \n",
       "151863                         No                         STUDDED   \n",
       "151864                         No                         STUDDED   \n",
       "151865                         No                         STUDDED   \n",
       "151866                         No                           PLAIN   \n",
       "\n",
       "       Retail Region     OrderRefNo Prod_Source      Karatage  \\\n",
       "0               WEST  ABKP2122P172O     Inhouse  18 KT / GOLD   \n",
       "1               WEST   ABKP2122P173  Outsourced  22 KT / GOLD   \n",
       "2               WEST   ABKP2122P174  Outsourced  22 KT / GOLD   \n",
       "3               WEST   ABKP2122P175  Outsourced  22 KT / GOLD   \n",
       "4               WEST   ABKP2122P176  Outsourced  22 KT / GOLD   \n",
       "...              ...            ...         ...           ...   \n",
       "151862         NORTH   YNRP2223P367  Outsourced  22 KT / GOLD   \n",
       "151863          ZOYA   ZBLP2223S38P  Outsourced     ZOYA 22kt   \n",
       "151864          ZOYA    ZKCP2223S8A     Inhouse     ZOYA 18kt   \n",
       "151865          ZOYA   ZMAP2223S27A  Outsourced     ZOYA 18kt   \n",
       "151866         NORTH   ZRKP2223P162  Outsourced  22 KT / GOLD   \n",
       "\n",
       "       Design Reference Product Category Product Size Code  Ord_Qty  \\\n",
       "0               P223PPY          PENDANT                 A        1   \n",
       "1               2019SHN    STUD EAR RING                 A        1   \n",
       "2               2017YPX     MANGAL SUTRA                 M        1   \n",
       "3               2219VMR           BANGLE                 R        1   \n",
       "4               D1D1DYD    DROP EAR RING                 A        1   \n",
       "...                 ...              ...               ...      ...   \n",
       "151862          3420GBN  CHIAN + PENDANT                 G        1   \n",
       "151863          CP19DAM    DROP EAR RING                 A        1   \n",
       "151864          ST21FAB     FINGER RING                  P        1   \n",
       "151865          FL21VBF           BANGLE                 C        1   \n",
       "151866          PV30BEB         BRACELET                 F        1   \n",
       "\n",
       "       Modification Type Product description  Lead time (days) Delayed order  \n",
       "0             New Design          GOLD PLAIN              34.0        Ontime  \n",
       "1                  Minor          GOLD PLAIN              19.0        Ontime  \n",
       "2               Standard          GOLD PLAIN              22.0        Ontime  \n",
       "3               Standard   PLAIN WITH STONES              18.0        Ontime  \n",
       "4               Standard          CZ PRODUCT              16.0        Ontime  \n",
       "...                  ...                 ...               ...           ...  \n",
       "151862             Minor          GOLD PLAIN              21.0       Overdue  \n",
       "151863          Standard  KUNDAN PLKI STONES              28.0       Overdue  \n",
       "151864             Major   STUDDED SOLITAIRE               NaN       Overdue  \n",
       "151865             Minor        GOLD STUDDED              47.0       Overdue  \n",
       "151866        New Design          GOLD PLAIN              27.0       Overdue  \n",
       "\n",
       "[151867 rows x 17 columns]"
      ]
     },
     "execution_count": 32,
     "metadata": {},
     "output_type": "execute_result"
    }
   ],
   "source": [
    "demo"
   ]
  },
  {
   "cell_type": "code",
   "execution_count": null,
   "id": "796e1b1b",
   "metadata": {},
   "outputs": [],
   "source": []
  },
  {
   "cell_type": "markdown",
   "id": "eb29e304",
   "metadata": {},
   "source": [
    "### 3. Data Preprocessing\n"
   ]
  },
  {
   "cell_type": "code",
   "execution_count": 33,
   "id": "b0d389eb",
   "metadata": {},
   "outputs": [],
   "source": [
    "demo.drop(['OrderRefNo','Prod_Source','Karatage','Design Reference','Product Category','Product Size Code','Modification Type','Product description','Vendor Region'], axis=1, inplace=True)"
   ]
  },
  {
   "cell_type": "code",
   "execution_count": 34,
   "id": "08957275",
   "metadata": {},
   "outputs": [
    {
     "data": {
      "text/html": [
       "<div>\n",
       "<style scoped>\n",
       "    .dataframe tbody tr th:only-of-type {\n",
       "        vertical-align: middle;\n",
       "    }\n",
       "\n",
       "    .dataframe tbody tr th {\n",
       "        vertical-align: top;\n",
       "    }\n",
       "\n",
       "    .dataframe thead th {\n",
       "        text-align: right;\n",
       "    }\n",
       "</style>\n",
       "<table border=\"1\" class=\"dataframe\">\n",
       "  <thead>\n",
       "    <tr style=\"text-align: right;\">\n",
       "      <th></th>\n",
       "      <th>Promised Month</th>\n",
       "      <th>Region Head Code</th>\n",
       "      <th>IsOrderForCustomerOccasion</th>\n",
       "      <th>Plain Gold or Studded Jewellery</th>\n",
       "      <th>Retail Region</th>\n",
       "      <th>Ord_Qty</th>\n",
       "      <th>Lead time (days)</th>\n",
       "      <th>Delayed order</th>\n",
       "    </tr>\n",
       "  </thead>\n",
       "  <tbody>\n",
       "    <tr>\n",
       "      <th>0</th>\n",
       "      <td>Apr</td>\n",
       "      <td>16</td>\n",
       "      <td>Yes</td>\n",
       "      <td>PLAIN</td>\n",
       "      <td>WEST</td>\n",
       "      <td>1</td>\n",
       "      <td>34.0</td>\n",
       "      <td>Ontime</td>\n",
       "    </tr>\n",
       "    <tr>\n",
       "      <th>1</th>\n",
       "      <td>Apr</td>\n",
       "      <td>12</td>\n",
       "      <td>No</td>\n",
       "      <td>PLAIN</td>\n",
       "      <td>WEST</td>\n",
       "      <td>1</td>\n",
       "      <td>19.0</td>\n",
       "      <td>Ontime</td>\n",
       "    </tr>\n",
       "    <tr>\n",
       "      <th>2</th>\n",
       "      <td>Apr</td>\n",
       "      <td>13</td>\n",
       "      <td>No</td>\n",
       "      <td>PLAIN</td>\n",
       "      <td>WEST</td>\n",
       "      <td>1</td>\n",
       "      <td>22.0</td>\n",
       "      <td>Ontime</td>\n",
       "    </tr>\n",
       "    <tr>\n",
       "      <th>3</th>\n",
       "      <td>Apr</td>\n",
       "      <td>17</td>\n",
       "      <td>No</td>\n",
       "      <td>PLAIN</td>\n",
       "      <td>WEST</td>\n",
       "      <td>1</td>\n",
       "      <td>18.0</td>\n",
       "      <td>Ontime</td>\n",
       "    </tr>\n",
       "    <tr>\n",
       "      <th>4</th>\n",
       "      <td>Apr</td>\n",
       "      <td>12</td>\n",
       "      <td>No</td>\n",
       "      <td>PLAIN</td>\n",
       "      <td>WEST</td>\n",
       "      <td>1</td>\n",
       "      <td>16.0</td>\n",
       "      <td>Ontime</td>\n",
       "    </tr>\n",
       "  </tbody>\n",
       "</table>\n",
       "</div>"
      ],
      "text/plain": [
       "  Promised Month  Region Head Code IsOrderForCustomerOccasion  \\\n",
       "0            Apr                16                        Yes   \n",
       "1            Apr                12                         No   \n",
       "2            Apr                13                         No   \n",
       "3            Apr                17                         No   \n",
       "4            Apr                12                         No   \n",
       "\n",
       "  Plain Gold or Studded Jewellery Retail Region  Ord_Qty  Lead time (days)  \\\n",
       "0                           PLAIN          WEST        1              34.0   \n",
       "1                           PLAIN          WEST        1              19.0   \n",
       "2                           PLAIN          WEST        1              22.0   \n",
       "3                           PLAIN          WEST        1              18.0   \n",
       "4                           PLAIN          WEST        1              16.0   \n",
       "\n",
       "  Delayed order  \n",
       "0        Ontime  \n",
       "1        Ontime  \n",
       "2        Ontime  \n",
       "3        Ontime  \n",
       "4        Ontime  "
      ]
     },
     "execution_count": 34,
     "metadata": {},
     "output_type": "execute_result"
    }
   ],
   "source": [
    "demo.head()"
   ]
  },
  {
   "cell_type": "code",
   "execution_count": 35,
   "id": "6d97c908",
   "metadata": {},
   "outputs": [],
   "source": [
    "demo.rename(columns = {'Promised Month':'PromisedMonth','Region Head Code':'RegionHeadCode','Vendor Region':'VendorRegion','Plain Gold or Studded Jewellery':'PlainGoldOrStuddedJewellery','Retail Region':'RetailRegion','Lead time (days)':'LeadTimeDays','Delayed order':'DelayedOrder'}, inplace = True)"
   ]
  },
  {
   "cell_type": "code",
   "execution_count": 36,
   "id": "5b7ef9b7",
   "metadata": {},
   "outputs": [
    {
     "data": {
      "text/html": [
       "<div>\n",
       "<style scoped>\n",
       "    .dataframe tbody tr th:only-of-type {\n",
       "        vertical-align: middle;\n",
       "    }\n",
       "\n",
       "    .dataframe tbody tr th {\n",
       "        vertical-align: top;\n",
       "    }\n",
       "\n",
       "    .dataframe thead th {\n",
       "        text-align: right;\n",
       "    }\n",
       "</style>\n",
       "<table border=\"1\" class=\"dataframe\">\n",
       "  <thead>\n",
       "    <tr style=\"text-align: right;\">\n",
       "      <th></th>\n",
       "      <th>PromisedMonth</th>\n",
       "      <th>RegionHeadCode</th>\n",
       "      <th>IsOrderForCustomerOccasion</th>\n",
       "      <th>PlainGoldOrStuddedJewellery</th>\n",
       "      <th>RetailRegion</th>\n",
       "      <th>Ord_Qty</th>\n",
       "      <th>LeadTimeDays</th>\n",
       "      <th>DelayedOrder</th>\n",
       "    </tr>\n",
       "  </thead>\n",
       "  <tbody>\n",
       "    <tr>\n",
       "      <th>0</th>\n",
       "      <td>Apr</td>\n",
       "      <td>16</td>\n",
       "      <td>Yes</td>\n",
       "      <td>PLAIN</td>\n",
       "      <td>WEST</td>\n",
       "      <td>1</td>\n",
       "      <td>34.0</td>\n",
       "      <td>Ontime</td>\n",
       "    </tr>\n",
       "    <tr>\n",
       "      <th>1</th>\n",
       "      <td>Apr</td>\n",
       "      <td>12</td>\n",
       "      <td>No</td>\n",
       "      <td>PLAIN</td>\n",
       "      <td>WEST</td>\n",
       "      <td>1</td>\n",
       "      <td>19.0</td>\n",
       "      <td>Ontime</td>\n",
       "    </tr>\n",
       "    <tr>\n",
       "      <th>2</th>\n",
       "      <td>Apr</td>\n",
       "      <td>13</td>\n",
       "      <td>No</td>\n",
       "      <td>PLAIN</td>\n",
       "      <td>WEST</td>\n",
       "      <td>1</td>\n",
       "      <td>22.0</td>\n",
       "      <td>Ontime</td>\n",
       "    </tr>\n",
       "    <tr>\n",
       "      <th>3</th>\n",
       "      <td>Apr</td>\n",
       "      <td>17</td>\n",
       "      <td>No</td>\n",
       "      <td>PLAIN</td>\n",
       "      <td>WEST</td>\n",
       "      <td>1</td>\n",
       "      <td>18.0</td>\n",
       "      <td>Ontime</td>\n",
       "    </tr>\n",
       "    <tr>\n",
       "      <th>4</th>\n",
       "      <td>Apr</td>\n",
       "      <td>12</td>\n",
       "      <td>No</td>\n",
       "      <td>PLAIN</td>\n",
       "      <td>WEST</td>\n",
       "      <td>1</td>\n",
       "      <td>16.0</td>\n",
       "      <td>Ontime</td>\n",
       "    </tr>\n",
       "  </tbody>\n",
       "</table>\n",
       "</div>"
      ],
      "text/plain": [
       "  PromisedMonth  RegionHeadCode IsOrderForCustomerOccasion  \\\n",
       "0           Apr              16                        Yes   \n",
       "1           Apr              12                         No   \n",
       "2           Apr              13                         No   \n",
       "3           Apr              17                         No   \n",
       "4           Apr              12                         No   \n",
       "\n",
       "  PlainGoldOrStuddedJewellery RetailRegion  Ord_Qty  LeadTimeDays DelayedOrder  \n",
       "0                       PLAIN         WEST        1          34.0       Ontime  \n",
       "1                       PLAIN         WEST        1          19.0       Ontime  \n",
       "2                       PLAIN         WEST        1          22.0       Ontime  \n",
       "3                       PLAIN         WEST        1          18.0       Ontime  \n",
       "4                       PLAIN         WEST        1          16.0       Ontime  "
      ]
     },
     "execution_count": 36,
     "metadata": {},
     "output_type": "execute_result"
    }
   ],
   "source": [
    "demo.head()"
   ]
  },
  {
   "cell_type": "code",
   "execution_count": 37,
   "id": "756151be",
   "metadata": {},
   "outputs": [],
   "source": [
    "demo['DelayedOrder'] = demo['DelayedOrder'].str.title()"
   ]
  },
  {
   "cell_type": "code",
   "execution_count": 39,
   "id": "6e945c3b",
   "metadata": {},
   "outputs": [],
   "source": [
    "month_map = {'Jan': 1, 'Feb': 2, 'Mar': 3, 'Apr': 4, 'May': 5, 'Jun': 6, 'Jul': 7, 'Aug': 8, 'Sep': 9, 'Oct': 10, 'Nov': 11, 'Dec': 12,}"
   ]
  },
  {
   "cell_type": "code",
   "execution_count": 40,
   "id": "46fb7c01",
   "metadata": {},
   "outputs": [],
   "source": [
    "delayed = {'Ontime': 1, 'Overdue':0}"
   ]
  },
  {
   "cell_type": "code",
   "execution_count": 41,
   "id": "509d3abd",
   "metadata": {},
   "outputs": [],
   "source": [
    "demo['DelayedOrder'] = demo['DelayedOrder'].replace(delayed)"
   ]
  },
  {
   "cell_type": "code",
   "execution_count": 42,
   "id": "51501518",
   "metadata": {},
   "outputs": [],
   "source": [
    "demo[\"PromisedMonth\"] = demo[\"PromisedMonth\"].replace(month_map)\n"
   ]
  },
  {
   "cell_type": "code",
   "execution_count": 49,
   "id": "aa16b61a",
   "metadata": {},
   "outputs": [
    {
     "data": {
      "text/html": [
       "<div>\n",
       "<style scoped>\n",
       "    .dataframe tbody tr th:only-of-type {\n",
       "        vertical-align: middle;\n",
       "    }\n",
       "\n",
       "    .dataframe tbody tr th {\n",
       "        vertical-align: top;\n",
       "    }\n",
       "\n",
       "    .dataframe thead th {\n",
       "        text-align: right;\n",
       "    }\n",
       "</style>\n",
       "<table border=\"1\" class=\"dataframe\">\n",
       "  <thead>\n",
       "    <tr style=\"text-align: right;\">\n",
       "      <th></th>\n",
       "      <th>PromisedMonth</th>\n",
       "      <th>RegionHeadCode</th>\n",
       "      <th>Ord_Qty</th>\n",
       "      <th>LeadTimeDays</th>\n",
       "      <th>DelayedOrder</th>\n",
       "    </tr>\n",
       "  </thead>\n",
       "  <tbody>\n",
       "    <tr>\n",
       "      <th>0</th>\n",
       "      <td>4</td>\n",
       "      <td>16</td>\n",
       "      <td>1</td>\n",
       "      <td>34.0</td>\n",
       "      <td>1</td>\n",
       "    </tr>\n",
       "    <tr>\n",
       "      <th>1</th>\n",
       "      <td>4</td>\n",
       "      <td>12</td>\n",
       "      <td>1</td>\n",
       "      <td>19.0</td>\n",
       "      <td>1</td>\n",
       "    </tr>\n",
       "    <tr>\n",
       "      <th>2</th>\n",
       "      <td>4</td>\n",
       "      <td>13</td>\n",
       "      <td>1</td>\n",
       "      <td>22.0</td>\n",
       "      <td>1</td>\n",
       "    </tr>\n",
       "    <tr>\n",
       "      <th>3</th>\n",
       "      <td>4</td>\n",
       "      <td>17</td>\n",
       "      <td>1</td>\n",
       "      <td>18.0</td>\n",
       "      <td>1</td>\n",
       "    </tr>\n",
       "    <tr>\n",
       "      <th>4</th>\n",
       "      <td>4</td>\n",
       "      <td>12</td>\n",
       "      <td>1</td>\n",
       "      <td>16.0</td>\n",
       "      <td>1</td>\n",
       "    </tr>\n",
       "  </tbody>\n",
       "</table>\n",
       "</div>"
      ],
      "text/plain": [
       "   PromisedMonth  RegionHeadCode  Ord_Qty  LeadTimeDays  DelayedOrder\n",
       "0              4              16        1          34.0             1\n",
       "1              4              12        1          19.0             1\n",
       "2              4              13        1          22.0             1\n",
       "3              4              17        1          18.0             1\n",
       "4              4              12        1          16.0             1"
      ]
     },
     "execution_count": 49,
     "metadata": {},
     "output_type": "execute_result"
    }
   ],
   "source": [
    "demo.head()"
   ]
  },
  {
   "cell_type": "code",
   "execution_count": 43,
   "id": "e5416f92",
   "metadata": {},
   "outputs": [
    {
     "data": {
      "text/plain": [
       "<Axes: xlabel='DelayedOrder', ylabel='count'>"
      ]
     },
     "execution_count": 43,
     "metadata": {},
     "output_type": "execute_result"
    },
    {
     "data": {
      "image/png": "[encoded data removed]",
      "text/plain": [
       "<Figure size 640x480 with 1 Axes>"
      ]
     },
     "metadata": {},
     "output_type": "display_data"
    }
   ],
   "source": [
    "sns.countplot(x='DelayedOrder',data=demo)"
   ]
  },
  {
   "cell_type": "code",
   "execution_count": 44,
   "id": "1410ccb2",
   "metadata": {},
   "outputs": [],
   "source": [
    "demo.drop(['IsOrderForCustomerOccasion','PlainGoldOrStuddedJewellery','RetailRegion'], axis = 1, inplace = True)"
   ]
  },
  {
   "cell_type": "code",
   "execution_count": 45,
   "id": "32e659f2",
   "metadata": {},
   "outputs": [
    {
     "data": {
      "text/html": [
       "<div>\n",
       "<style scoped>\n",
       "    .dataframe tbody tr th:only-of-type {\n",
       "        vertical-align: middle;\n",
       "    }\n",
       "\n",
       "    .dataframe tbody tr th {\n",
       "        vertical-align: top;\n",
       "    }\n",
       "\n",
       "    .dataframe thead th {\n",
       "        text-align: right;\n",
       "    }\n",
       "</style>\n",
       "<table border=\"1\" class=\"dataframe\">\n",
       "  <thead>\n",
       "    <tr style=\"text-align: right;\">\n",
       "      <th></th>\n",
       "      <th>PromisedMonth</th>\n",
       "      <th>RegionHeadCode</th>\n",
       "      <th>Ord_Qty</th>\n",
       "      <th>LeadTimeDays</th>\n",
       "      <th>DelayedOrder</th>\n",
       "    </tr>\n",
       "  </thead>\n",
       "  <tbody>\n",
       "    <tr>\n",
       "      <th>0</th>\n",
       "      <td>4</td>\n",
       "      <td>16</td>\n",
       "      <td>1</td>\n",
       "      <td>34.0</td>\n",
       "      <td>1</td>\n",
       "    </tr>\n",
       "    <tr>\n",
       "      <th>1</th>\n",
       "      <td>4</td>\n",
       "      <td>12</td>\n",
       "      <td>1</td>\n",
       "      <td>19.0</td>\n",
       "      <td>1</td>\n",
       "    </tr>\n",
       "    <tr>\n",
       "      <th>2</th>\n",
       "      <td>4</td>\n",
       "      <td>13</td>\n",
       "      <td>1</td>\n",
       "      <td>22.0</td>\n",
       "      <td>1</td>\n",
       "    </tr>\n",
       "    <tr>\n",
       "      <th>3</th>\n",
       "      <td>4</td>\n",
       "      <td>17</td>\n",
       "      <td>1</td>\n",
       "      <td>18.0</td>\n",
       "      <td>1</td>\n",
       "    </tr>\n",
       "    <tr>\n",
       "      <th>4</th>\n",
       "      <td>4</td>\n",
       "      <td>12</td>\n",
       "      <td>1</td>\n",
       "      <td>16.0</td>\n",
       "      <td>1</td>\n",
       "    </tr>\n",
       "  </tbody>\n",
       "</table>\n",
       "</div>"
      ],
      "text/plain": [
       "   PromisedMonth  RegionHeadCode  Ord_Qty  LeadTimeDays  DelayedOrder\n",
       "0              4              16        1          34.0             1\n",
       "1              4              12        1          19.0             1\n",
       "2              4              13        1          22.0             1\n",
       "3              4              17        1          18.0             1\n",
       "4              4              12        1          16.0             1"
      ]
     },
     "execution_count": 45,
     "metadata": {},
     "output_type": "execute_result"
    }
   ],
   "source": [
    "demo.head()"
   ]
  },
  {
   "cell_type": "code",
   "execution_count": 46,
   "id": "751ab60d",
   "metadata": {},
   "outputs": [
    {
     "data": {
      "text/plain": [
       "<Axes: xlabel='LeadTimeDays', ylabel='count'>"
      ]
     },
     "execution_count": 46,
     "metadata": {},
     "output_type": "execute_result"
    },
    {
     "data": {
      "image/png": "[encoded data removed]",
      "text/plain": [
       "<Figure size 640x480 with 1 Axes>"
      ]
     },
     "metadata": {},
     "output_type": "display_data"
    }
   ],
   "source": [
    "sns.countplot(x='LeadTimeDays',data=demo)"
   ]
  },
  {
   "cell_type": "code",
   "execution_count": 51,
   "id": "68de22cd",
   "metadata": {},
   "outputs": [
    {
     "data": {
      "text/plain": [
       "Text(0, 0.5, 'PromisedMonth')"
      ]
     },
     "execution_count": 51,
     "metadata": {},
     "output_type": "execute_result"
    },
    {
     "data": {
      "image/png": "[encoded data removed]",
      "text/plain": [
       "<Figure size 640x480 with 1 Axes>"
      ]
     },
     "metadata": {},
     "output_type": "display_data"
    }
   ],
   "source": [
    "plt.bar(demo[\"DelayedOrder\"], demo[\"PromisedMonth\"])\n",
    "\n",
    "# Add labels\n",
    "plt.xlabel(\"DelayedOrder\")\n",
    "plt.ylabel(\"PromisedMonth\")"
   ]
  },
  {
   "cell_type": "code",
   "execution_count": 52,
   "id": "4e36352b",
   "metadata": {},
   "outputs": [
    {
     "data": {
      "image/png": "[encoded data removed]",
      "text/plain": [
       "<Figure size 640x480 with 1 Axes>"
      ]
     },
     "metadata": {},
     "output_type": "display_data"
    }
   ],
   "source": [
    "promised_month = demo[\"PromisedMonth\"]\n",
    "\n",
    "# Create a pie chart\n",
    "plt.pie(promised_month.value_counts(), labels=promised_month.unique())\n",
    "\n",
    "# Add labels to the pie chart\n",
    "plt.title(\"PromisedMonth\")\n",
    "plt.show()"
   ]
  },
  {
   "cell_type": "code",
   "execution_count": null,
   "id": "b8fff865",
   "metadata": {},
   "outputs": [],
   "source": []
  },
  {
   "cell_type": "code",
   "execution_count": null,
   "id": "c2bdcf55",
   "metadata": {},
   "outputs": [],
   "source": []
  },
  {
   "cell_type": "code",
   "execution_count": null,
   "id": "ad7318ad",
   "metadata": {},
   "outputs": [],
   "source": []
  },
  {
   "cell_type": "code",
   "execution_count": null,
   "id": "e4331edf",
   "metadata": {},
   "outputs": [],
   "source": []
  },
  {
   "cell_type": "code",
   "execution_count": 19,
   "id": "6f72f1d1",
   "metadata": {},
   "outputs": [],
   "source": [
    "from sklearn.impute import SimpleImputer\n",
    "\n",
    "imputer = SimpleImputer(strategy=\"mean\")\n",
    "imputer.fit(demo)\n",
    "X_imputed = imputer.transform(demo)\n"
   ]
  },
  {
   "cell_type": "code",
   "execution_count": 20,
   "id": "fa6b90b5",
   "metadata": {},
   "outputs": [
    {
     "data": {
      "text/plain": [
       "PromisedMonth       0\n",
       "RegionHeadCode      0\n",
       "Ord_Qty             0\n",
       "LeadTimeDays      798\n",
       "DelayedOrder        0\n",
       "dtype: int64"
      ]
     },
     "execution_count": 20,
     "metadata": {},
     "output_type": "execute_result"
    }
   ],
   "source": [
    "demo.isnull().sum()"
   ]
  },
  {
   "cell_type": "code",
   "execution_count": 21,
   "id": "715bb291",
   "metadata": {},
   "outputs": [],
   "source": [
    "#filling the null values\n",
    "\n",
    "demo.fillna(0, inplace=True)"
   ]
  },
  {
   "cell_type": "code",
   "execution_count": 22,
   "id": "6d4f7f02",
   "metadata": {},
   "outputs": [
    {
     "data": {
      "text/plain": [
       "PromisedMonth     0\n",
       "RegionHeadCode    0\n",
       "Ord_Qty           0\n",
       "LeadTimeDays      0\n",
       "DelayedOrder      0\n",
       "dtype: int64"
      ]
     },
     "execution_count": 22,
     "metadata": {},
     "output_type": "execute_result"
    }
   ],
   "source": [
    "demo.isnull().sum()"
   ]
  },
  {
   "cell_type": "code",
   "execution_count": 23,
   "id": "1af250a1",
   "metadata": {},
   "outputs": [],
   "source": [
    "#Splitting the data into feature and target data\n",
    "\n",
    "features = demo[[\"PromisedMonth\", \"RegionHeadCode\", \"Ord_Qty\", \"LeadTimeDays\"]]\n",
    "target = demo[\"DelayedOrder\"]\n"
   ]
  },
  {
   "cell_type": "code",
   "execution_count": 24,
   "id": "a1624a3b",
   "metadata": {},
   "outputs": [
    {
     "data": {
      "text/html": [
       "<style>#sk-container-id-1 {color: black;background-color: white;}#sk-container-id-1 pre{padding: 0;}#sk-container-id-1 div.sk-toggleable {background-color: white;}#sk-container-id-1 label.sk-toggleable__label {cursor: pointer;display: block;width: 100%;margin-bottom: 0;padding: 0.3em;box-sizing: border-box;text-align: center;}#sk-container-id-1 label.sk-toggleable__label-arrow:before {content: \"▸\";float: left;margin-right: 0.25em;color: #696969;}#sk-container-id-1 label.sk-toggleable__label-arrow:hover:before {color: black;}#sk-container-id-1 div.sk-estimator:hover label.sk-toggleable__label-arrow:before {color: black;}#sk-container-id-1 div.sk-toggleable__content {max-height: 0;max-width: 0;overflow: hidden;text-align: left;background-color: #f0f8ff;}#sk-container-id-1 div.sk-toggleable__content pre {margin: 0.2em;color: black;border-radius: 0.25em;background-color: #f0f8ff;}#sk-container-id-1 input.sk-toggleable__control:checked~div.sk-toggleable__content {max-height: 200px;max-width: 100%;overflow: auto;}#sk-container-id-1 input.sk-toggleable__control:checked~label.sk-toggleable__label-arrow:before {content: \"▾\";}#sk-container-id-1 div.sk-estimator input.sk-toggleable__control:checked~label.sk-toggleable__label {background-color: #d4ebff;}#sk-container-id-1 div.sk-label input.sk-toggleable__control:checked~label.sk-toggleable__label {background-color: #d4ebff;}#sk-container-id-1 input.sk-hidden--visually {border: 0;clip: rect(1px 1px 1px 1px);clip: rect(1px, 1px, 1px, 1px);height: 1px;margin: -1px;overflow: hidden;padding: 0;position: absolute;width: 1px;}#sk-container-id-1 div.sk-estimator {font-family: monospace;background-color: #f0f8ff;border: 1px dotted black;border-radius: 0.25em;box-sizing: border-box;margin-bottom: 0.5em;}#sk-container-id-1 div.sk-estimator:hover {background-color: #d4ebff;}#sk-container-id-1 div.sk-parallel-item::after {content: \"\";width: 100%;border-bottom: 1px solid gray;flex-grow: 1;}#sk-container-id-1 div.sk-label:hover label.sk-toggleable__label {background-color: #d4ebff;}#sk-container-id-1 div.sk-serial::before {content: \"\";position: absolute;border-left: 1px solid gray;box-sizing: border-box;top: 0;bottom: 0;left: 50%;z-index: 0;}#sk-container-id-1 div.sk-serial {display: flex;flex-direction: column;align-items: center;background-color: white;padding-right: 0.2em;padding-left: 0.2em;position: relative;}#sk-container-id-1 div.sk-item {position: relative;z-index: 1;}#sk-container-id-1 div.sk-parallel {display: flex;align-items: stretch;justify-content: center;background-color: white;position: relative;}#sk-container-id-1 div.sk-item::before, #sk-container-id-1 div.sk-parallel-item::before {content: \"\";position: absolute;border-left: 1px solid gray;box-sizing: border-box;top: 0;bottom: 0;left: 50%;z-index: -1;}#sk-container-id-1 div.sk-parallel-item {display: flex;flex-direction: column;z-index: 1;position: relative;background-color: white;}#sk-container-id-1 div.sk-parallel-item:first-child::after {align-self: flex-end;width: 50%;}#sk-container-id-1 div.sk-parallel-item:last-child::after {align-self: flex-start;width: 50%;}#sk-container-id-1 div.sk-parallel-item:only-child::after {width: 0;}#sk-container-id-1 div.sk-dashed-wrapped {border: 1px dashed gray;margin: 0 0.4em 0.5em 0.4em;box-sizing: border-box;padding-bottom: 0.4em;background-color: white;}#sk-container-id-1 div.sk-label label {font-family: monospace;font-weight: bold;display: inline-block;line-height: 1.2em;}#sk-container-id-1 div.sk-label-container {text-align: center;}#sk-container-id-1 div.sk-container {/* jupyter's `normalize.less` sets `[hidden] { display: none; }` but bootstrap.min.css set `[hidden] { display: none !important; }` so we also need the `!important` here to be able to override the default hidden behavior on the sphinx rendered scikit-learn.org. See: https://github.com/scikit-learn/scikit-learn/issues/21755 */display: inline-block !important;position: relative;}#sk-container-id-1 div.sk-text-repr-fallback {display: none;}</style><div id=\"sk-container-id-1\" class=\"sk-top-container\"><div class=\"sk-text-repr-fallback\"><pre>LogisticRegression()</pre><b>In a Jupyter environment, please rerun this cell to show the HTML representation or trust the notebook. <br />On GitHub, the HTML representation is unable to render, please try loading this page with nbviewer.org.</b></div><div class=\"sk-container\" hidden><div class=\"sk-item\"><div class=\"sk-estimator sk-toggleable\"><input class=\"sk-toggleable__control sk-hidden--visually\" id=\"sk-estimator-id-1\" type=\"checkbox\" checked><label for=\"sk-estimator-id-1\" class=\"sk-toggleable__label sk-toggleable__label-arrow\">LogisticRegression</label><div class=\"sk-toggleable__content\"><pre>LogisticRegression()</pre></div></div></div></div></div>"
      ],
      "text/plain": [
       "LogisticRegression()"
      ]
     },
     "execution_count": 24,
     "metadata": {},
     "output_type": "execute_result"
    }
   ],
   "source": [
    "model = LogisticRegression()\n",
    "model.fit(features, target)"
   ]
  },
  {
   "cell_type": "code",
   "execution_count": 25,
   "id": "f4a608de",
   "metadata": {},
   "outputs": [],
   "source": [
    "predictions = model.predict(features)"
   ]
  },
  {
   "cell_type": "code",
   "execution_count": 28,
   "id": "52e11465",
   "metadata": {},
   "outputs": [],
   "source": [
    "accuracy = np.mean(predictions == target)"
   ]
  },
  {
   "cell_type": "code",
   "execution_count": 29,
   "id": "e6181490",
   "metadata": {},
   "outputs": [
    {
     "name": "stdout",
     "output_type": "stream",
     "text": [
      "0.9042846701390032\n"
     ]
    }
   ],
   "source": [
    "print(accuracy)\n"
   ]
  },
  {
   "cell_type": "code",
   "execution_count": null,
   "id": "593ea5f2",
   "metadata": {},
   "outputs": [],
   "source": []
  },
  {
   "cell_type": "code",
   "execution_count": null,
   "id": "7fe3624d",
   "metadata": {},
   "outputs": [],
   "source": []
  },
  {
   "cell_type": "code",
   "execution_count": null,
   "id": "dd5b7538",
   "metadata": {},
   "outputs": [],
   "source": []
  },
  {
   "cell_type": "code",
   "execution_count": null,
   "id": "84ce5170",
   "metadata": {},
   "outputs": [],
   "source": []
  },
  {
   "cell_type": "code",
   "execution_count": null,
   "id": "e7738e2d",
   "metadata": {},
   "outputs": [],
   "source": []
  },
  {
   "cell_type": "code",
   "execution_count": null,
   "id": "74a5b558",
   "metadata": {},
   "outputs": [],
   "source": []
  },
  {
   "cell_type": "code",
   "execution_count": null,
   "id": "c654d532",
   "metadata": {},
   "outputs": [],
   "source": []
  },
  {
   "cell_type": "code",
   "execution_count": null,
   "id": "3e568f70",
   "metadata": {},
   "outputs": [],
   "source": []
  }
 ],
 "metadata": {
  "kernelspec": {
   "display_name": "Python 3 (ipykernel)",
   "language": "python",
   "name": "python3"
  },
  "language_info": {
   "codemirror_mode": {
    "name": "ipython",
    "version": 3
   },
   "file_extension": ".py",
   "mimetype": "text/x-python",
   "name": "python",
   "nbconvert_exporter": "python",
   "pygments_lexer": "ipython3",
   "version": "3.11.7"
  }
 },
 "nbformat": 4,
 "nbformat_minor": 5
}
